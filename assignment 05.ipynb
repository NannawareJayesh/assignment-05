{
 "cells": [
  {
   "cell_type": "markdown",
   "id": "d3d5f27b-36db-4677-ba92-25bd705678b6",
   "metadata": {},
   "source": [
    "## ASSIGNMENT"
   ]
  },
  {
   "cell_type": "markdown",
   "id": "2d198c9c-1b1f-4d90-a40a-0894733401c6",
   "metadata": {},
   "source": [
    "Q.1 who developed python programming language?"
   ]
  },
  {
   "cell_type": "markdown",
   "id": "6f08d626-bdbc-49fb-8dde-9835a7a7ac9e",
   "metadata": {},
   "source": [
    "Python was developed by Guido van Rossum in the late 1980s and early 1990s at the National Research Institute for Mathematics and Computer Science in the Netherlands. "
   ]
  },
  {
   "cell_type": "markdown",
   "id": "4e5ed92f-a872-42be-a874-569ab38fdf63",
   "metadata": {},
   "source": [
    "Q.2 Which type of programing does python support?"
   ]
  },
  {
   "cell_type": "markdown",
   "id": "fed829d6-1ab0-47f2-89d6-caa34b829a56",
   "metadata": {},
   "source": [
    "Python supports multiple programming paradigms, including:\n",
    "\n",
    "Object-Oriented Programming (OOP)\n",
    "Procedural Programming\n",
    "Functional Programming\n",
    "Python is considered a multi-paradigm programming language because it allows programmers to use any of these paradigms or a combination of them in their code. This flexibility and versatility of Python make it a popular choice among developers for a wide range of applications."
   ]
  },
  {
   "cell_type": "markdown",
   "id": "8c78c7f7-8c95-4ece-9fa3-7d834e37809e",
   "metadata": {},
   "source": [
    "Q.3 Is python case sensative when dealing with identifliers?"
   ]
  },
  {
   "cell_type": "markdown",
   "id": "94a02559-37bd-4cae-88d9-850fba48b313",
   "metadata": {},
   "source": [
    "Yes, Python is case sensitive when dealing with identifiers such as variable names, function names, and class names. "
   ]
  },
  {
   "cell_type": "markdown",
   "id": "d86dff89-f737-441e-b341-6571c506da73",
   "metadata": {},
   "source": [
    "Q.4 what is the correct extension of the python file?"
   ]
  },
  {
   "cell_type": "markdown",
   "id": "bad208c5-6314-49d1-86ff-08dd452d48f2",
   "metadata": {},
   "source": [
    "The correct extension of a Python file is .py. "
   ]
  },
  {
   "cell_type": "markdown",
   "id": "17935390-2358-4798-b51c-54ee32ce4ac0",
   "metadata": {},
   "source": [
    "Q.5 Is python code complied or interpreted?"
   ]
  },
  {
   "cell_type": "markdown",
   "id": "5adb6c52-0a10-4208-b7f1-943b23d9903b",
   "metadata": {},
   "source": [
    "Python code is interpreted, not compiled. When you run a Python program, the Python interpreter reads the source code and interprets it on the fly, executing each line of code as it is encountered."
   ]
  },
  {
   "cell_type": "markdown",
   "id": "425f78bc-1e4c-44cf-8293-2d0048f2e0a6",
   "metadata": {},
   "source": [
    "Q.6 Name a few block of code used to define in python language?"
   ]
  },
  {
   "cell_type": "markdown",
   "id": "5468b5a3-d05d-45c4-8cae-82fc965f1878",
   "metadata": {},
   "source": [
    "In Python, blocks of code are defined using indentation. The following are some examples of blocks of code in Python:"
   ]
  },
  {
   "cell_type": "code",
   "execution_count": 4,
   "id": "dbcd2509-9b4a-422e-8f08-51699e01adef",
   "metadata": {},
   "outputs": [],
   "source": [
    "# FUNCTION DEFINATION\n",
    "def my_function():\n",
    "    # This is the body of the function\n",
    "    print(\"Hello, world!\")\n"
   ]
  },
  {
   "cell_type": "code",
   "execution_count": 29,
   "id": "2c105e2a-8dd2-4433-8150-7554aa210702",
   "metadata": {},
   "outputs": [
    {
     "name": "stdout",
     "output_type": "stream",
     "text": [
      "x is positive\n",
      "x is positive\n",
      "x is non-positive\n",
      "x is positive\n",
      "x is positive\n",
      "x is non-positive\n"
     ]
    }
   ],
   "source": [
    "#CONDITIONAL STATEMENT\n",
    "x = [1,3,-5,8,4,-2]\n",
    "for i in x: \n",
    "    if i > 0:\n",
    "    # This block of code will be executed if x is greater than 0\n",
    "        print(\"x is positive\")\n",
    "    else:\n",
    "    # This block of code will be executed if x is less than or equal to 0\n",
    "        print(\"x is non-positive\")\n"
   ]
  },
  {
   "cell_type": "code",
   "execution_count": 18,
   "id": "9446e7e5-0e74-4bd9-bcf4-eb7a2a67ea74",
   "metadata": {},
   "outputs": [
    {
     "name": "stdout",
     "output_type": "stream",
     "text": [
      "0\n",
      "1\n",
      "2\n",
      "3\n",
      "4\n",
      "5\n",
      "6\n",
      "7\n",
      "8\n",
      "9\n"
     ]
    }
   ],
   "source": [
    "#LOOPING CONSTRAINT\n",
    "for i in range(10):\n",
    "    # This block of code will be executed 10 times, with i taking the values 0 through 9\n",
    "    print(i)\n"
   ]
  },
  {
   "cell_type": "code",
   "execution_count": 30,
   "id": "ca65270b-21a5-41b2-94f4-e48540dfaaed",
   "metadata": {},
   "outputs": [],
   "source": [
    "#CLASS DEFINATION\n",
    "class MyClass:\n",
    "    def __init__(self, x, y):\n",
    "        self.x = x\n",
    "        self.y = y\n",
    "\n",
    "    def my_method(self):\n",
    "        # This is a method of the class\n",
    "        print(\"MyClass method called\")\n"
   ]
  },
  {
   "cell_type": "markdown",
   "id": "a613b80e-e270-4227-a7bc-53adf9f03b58",
   "metadata": {},
   "source": [
    "Q.7 State the characher used to give single line comments in python? "
   ]
  },
  {
   "cell_type": "markdown",
   "id": "51ec46d0-e130-4bd9-922c-2bb677c23e56",
   "metadata": {},
   "source": [
    "In Python, the hash symbol \"#\" is used to indicate a single-line comment. Any text that follows the \"#\" symbol on the same line is considered a comment and is ignored by the Python interpreter."
   ]
  },
  {
   "cell_type": "markdown",
   "id": "d96a2b3e-12b2-461e-911f-e0f6f5f4ab11",
   "metadata": {},
   "source": [
    "Q.8 Mention function which can help us to find the version of python that we are currently working?"
   ]
  },
  {
   "cell_type": "markdown",
   "id": "bb45e2fe-3345-43e8-b1b6-24255cd7522a",
   "metadata": {},
   "source": [
    "To find the version of Python that you are currently working with, you can use the built-in function sys.version in Python. "
   ]
  },
  {
   "cell_type": "code",
   "execution_count": 31,
   "id": "ba26be0d-63f9-4b4d-a820-00c90ee8ea92",
   "metadata": {},
   "outputs": [
    {
     "name": "stdout",
     "output_type": "stream",
     "text": [
      "Python version\n",
      "3.10.8 | packaged by conda-forge | (main, Nov 22 2022, 08:26:04) [GCC 10.4.0]\n"
     ]
    }
   ],
   "source": [
    "import sys\n",
    "\n",
    "print(\"Python version\")\n",
    "print(sys.version)\n"
   ]
  },
  {
   "cell_type": "markdown",
   "id": "860e5849-5aaa-4bf8-ad7d-485445c65775",
   "metadata": {},
   "source": [
    "Q.9 Python supports the creation of anonymous functions at runtime,using a construct called ____"
   ]
  },
  {
   "cell_type": "markdown",
   "id": "c18e361f-bbce-4952-85e1-8d588c955f38",
   "metadata": {},
   "source": [
    "Python supports the creation of anonymous functions at runtime using a construct called \"lambda\" expressions. Lambda expressions allow you to create small, unnamed functions that can be used wherever function objects are required."
   ]
  },
  {
   "cell_type": "markdown",
   "id": "3f7fef1d-ca86-4a88-9414-99f5ce0ffa39",
   "metadata": {},
   "source": [
    "Q.10 What does pip stand for python?"
   ]
  },
  {
   "cell_type": "markdown",
   "id": "5c964af4-a4a8-4a54-910f-ac32455abf0a",
   "metadata": {},
   "source": [
    "PIP stands for \"Pip Installs Packages\" or \"Pip Installs Python\". It is a package manager for Python that allows you to easily install and manage third-party packages and libraries. PIP is used to download and install Python packages from the Python Package Index (PyPI) and other package indexes."
   ]
  },
  {
   "cell_type": "markdown",
   "id": "78c236d2-0172-4d24-86d0-4552fd6de36a",
   "metadata": {},
   "source": [
    "Q.11 Mention a few built in function in python?"
   ]
  },
  {
   "cell_type": "markdown",
   "id": "b747a225-95a2-4aff-b8bb-d66b322fc635",
   "metadata": {},
   "source": [
    "Python has many built-in functions that are available without the need to import any modules. Here are a few commonly used built-in functions in Python:\n",
    "\n",
    "print(): This function is used to display output to the console or standard output. It takes one or more arguments and prints them to the console.\n",
    "\n",
    "len(): This function is used to find the length of a sequence, such as a string, list, or tuple.\n",
    "\n",
    "range(): This function is used to generate a sequence of numbers. It takes one, two, or three arguments and returns an iterable object.\n",
    "\n",
    "input(): This function is used to take input from the user. It prompts the user for input and returns a string.\n",
    "\n",
    "type(): This function is used to determine the type of an object. It takes one argument and returns the type of the object.\n",
    "\n",
    "max(): This function is used to find the maximum value in a sequence, such as a string, list, or tuple.\n",
    "\n",
    "min(): This function is used to find the minimum value in a sequence, such as a string, list, or tuple.\n",
    "\n",
    "sum(): This function is used to find the sum of all elements in a sequence, such as a list or tuple.\n",
    "\n",
    "abs(): This function is used to find the absolute value of a number.\n",
    "\n",
    "sorted(): This function is used to sort a sequence, such as a list or tuple, in ascending order."
   ]
  },
  {
   "cell_type": "markdown",
   "id": "a291c853-edb5-4992-8d3e-ea7e4c8be5e9",
   "metadata": {},
   "source": [
    "Q.12 What is the maximum possible length of an identifier in python?"
   ]
  },
  {
   "cell_type": "markdown",
   "id": "96f06cca-0c2e-4689-9e3a-5bdc6bbf8b25",
   "metadata": {},
   "source": [
    "The maximum possible length of an identifier (variable name, function name, class name, etc.) in Python is not explicitly defined. According to the Python documentation, identifiers can be of any length and can contain letters (both uppercase and lowercase), digits, and underscores (_)."
   ]
  },
  {
   "cell_type": "markdown",
   "id": "3700a477-fbd3-4b77-883c-2bff28827e8f",
   "metadata": {},
   "source": [
    "Q.13 what is the benefits of using python?"
   ]
  },
  {
   "cell_type": "markdown",
   "id": "98430462-d572-4a65-b86e-34dd25575159",
   "metadata": {},
   "source": [
    "There are many benefits of using Python as a programming language, including:\n",
    "\n",
    "Easy to learn and use: Python has a simple and straightforward syntax that is easy to read and write. It is a high-level language that allows programmers to express complex concepts in fewer lines of code compared to other languages.\n",
    "\n",
    "Large standard library: Python comes with a large standard library that provides a wide range of modules and functions for common programming tasks, such as string manipulation, file I/O, and networking.\n",
    "\n",
    "Cross-platform compatibility: Python is a cross-platform language, meaning it can be run on a variety of platforms and operating systems, including Windows, Linux, and macOS.\n",
    "\n",
    "Rich ecosystem of third-party libraries: Python has a vast ecosystem of third-party libraries and frameworks that can be easily installed and used, making it a popular language for data science, machine learning, web development, and scientific computing.\n",
    "\n",
    "Excellent community support: Python has a large and active community of developers who contribute to its development, create new libraries and tools, and provide support through forums, mailing lists, and other resources.\n",
    "\n",
    "Strong focus on code readability: Python's syntax and style encourage code that is easy to read and understand, making it easier for developers to collaborate on projects and maintain code over time.\n",
    "\n",
    "High productivity: Due to its ease of use, large standard library, and extensive third-party ecosystem, Python can be a very productive language, allowing developers to quickly prototype and develop applications and solutions."
   ]
  },
  {
   "cell_type": "markdown",
   "id": "399b6ac3-c1fe-4c3f-bd9b-b98ccda54ebb",
   "metadata": {},
   "source": [
    "Q.14 How is memory managed in python?"
   ]
  },
  {
   "cell_type": "markdown",
   "id": "7385cf45-2ace-4af8-b5b4-48edee2901c1",
   "metadata": {},
   "source": [
    "In Python, memory management is handled automatically by the Python runtime through a process called garbage collection. The garbage collector periodically frees memory that is no longer being used by the program.\n",
    "Python's automatic memory management system makes it easier for developers to write code without having to worry about manual memory allocation and deallocation. However, it is still important to write efficient code and avoid creating unnecessary objects to prevent excessive memory usage and performance issues."
   ]
  },
  {
   "cell_type": "markdown",
   "id": "31c8f804-accc-4840-81a2-66e4b68a65d8",
   "metadata": {},
   "source": [
    "Q.15 How to install python on windows and set path variables?"
   ]
  },
  {
   "cell_type": "markdown",
   "id": "1fb903e0-271c-4f9d-b95b-ec44e7c8516f",
   "metadata": {},
   "source": [
    "To install Python on Windows and set the path variables, you can follow these steps:\n",
    "\n",
    "Download Python installer: Go to the official Python website at https://www.python.org/downloads/ and download the latest version of Python for Windows.\n",
    "\n",
    "Run the installer: Run the installer and select the \"Install Now\" option to install Python with the default settings.\n",
    "\n",
    "Add Python to path: During the installation process, you will be prompted to add Python to your system's path variable. Make sure to check the \"Add Python X.X to PATH\" option (where X.X represents the version number) and click \"Install Now\".\n",
    "\n",
    "Verify installation: Open a command prompt and type \"python --version\" to verify that Python has been installed and is working properly.\n",
    "\n",
    "Set environment variables: To set environment variables, go to the \"System Properties\" window by right-clicking on \"This PC\" and selecting \"Properties\". Click on the \"Advanced system settings\" link, then click on the \"Environment Variables\" button. Under \"System variables\", click on the \"New\" button and enter the following information:\n",
    "\n",
    "Variable name: PYTHON_HOME\n",
    "Variable value: C:\\PythonXX (where XX represents the version number)\n",
    "Click \"OK\" to save the changes. Then, under \"System variables\", find the \"Path\" variable and click \"Edit\". Add the following path at the end of the list:\n",
    "\n",
    "%PYTHON_HOME%;%PYTHON_HOME%\\Scripts;\n",
    "Click \"OK\" to save the changes."
   ]
  },
  {
   "cell_type": "markdown",
   "id": "82b4b764-0834-442d-9ecd-aee9cd1b3472",
   "metadata": {},
   "source": [
    "Q.16 Is indentation required in python?"
   ]
  },
  {
   "cell_type": "markdown",
   "id": "2a78261c-f45a-492e-b25d-2a3d63c8c01c",
   "metadata": {},
   "source": [
    "Yes, indentation is required in Python. Unlike many other programming languages that use curly braces to define blocks of code, Python uses whitespace (specifically, indentation) to group statements into blocks. This means that the indentation of each line of code is significant and affects the structure and meaning of the program."
   ]
  },
  {
   "cell_type": "code",
   "execution_count": null,
   "id": "cc1e0a40-f16e-4433-ae59-c06dcaadc9fc",
   "metadata": {},
   "outputs": [],
   "source": []
  }
 ],
 "metadata": {
  "kernelspec": {
   "display_name": "Python 3 (ipykernel)",
   "language": "python",
   "name": "python3"
  },
  "language_info": {
   "codemirror_mode": {
    "name": "ipython",
    "version": 3
   },
   "file_extension": ".py",
   "mimetype": "text/x-python",
   "name": "python",
   "nbconvert_exporter": "python",
   "pygments_lexer": "ipython3",
   "version": "3.10.8"
  }
 },
 "nbformat": 4,
 "nbformat_minor": 5
}
